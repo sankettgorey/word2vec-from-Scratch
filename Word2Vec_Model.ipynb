{
  "nbformat": 4,
  "nbformat_minor": 0,
  "metadata": {
    "colab": {
      "name": "Word2Vec Model.ipynb",
      "provenance": [],
      "collapsed_sections": []
    },
    "kernelspec": {
      "name": "python3",
      "display_name": "Python 3"
    },
    "language_info": {
      "name": "python"
    }
  },
  "cells": [
    {
      "cell_type": "markdown",
      "metadata": {
        "id": "zaBAuruU0smP"
      },
      "source": [
        "# This is word2vec model built from scratch.\n",
        "# This model is trained on the Speech delivered by 'EVAN WILLIAMS' titled “A Journey on the Information Highway”.\n",
        "(reference to the speech script: https://jamesclear.com/great-speeches/a-journey-on-the-information-highway-by-evan-williams)"
      ]
    },
    {
      "cell_type": "code",
      "metadata": {
        "id": "MSdTNpa8zu60"
      },
      "source": [
        "text = '''Hi, friends. I want to talk to you today about the Internet just generally because I think I've figured it out. \\\n",
        "I have some theories anyway. I'm also going to need the clicker I think. You were ready for that. Thank you. So to tell you \\\n",
        "about my theories, I'm going to tell you how I got to my theories, which involves telling you a story that is a lot of my life. \\\n",
        "And it starts here from a small place in the middle of the country. Well, the place isn't that small. It has lots of land. \\\n",
        "It's as big as any other place. There's just not a lot of people in that place. My school growing up was probably less than 60 people \\\n",
        "in the high school. They were all white. All the boys played football except for me. And that and in many other ways, I felt \\\n",
        "very different there growing up, and I yearned for the world outside. I didn't feel like I belonged there.'''"
      ],
      "execution_count": 21,
      "outputs": []
    },
    {
      "cell_type": "code",
      "metadata": {
        "colab": {
          "base_uri": "https://localhost:8080/",
          "height": 120
        },
        "id": "jsgRT8brZmUX",
        "outputId": "04a7320b-482f-4894-82dd-e003b8bb6568"
      },
      "source": [
        "text"
      ],
      "execution_count": 22,
      "outputs": [
        {
          "output_type": "execute_result",
          "data": {
            "application/vnd.google.colaboratory.intrinsic+json": {
              "type": "string"
            },
            "text/plain": [
              "\"Hi, friends. I want to talk to you today about the Internet just generally because I think I've figured it out. I have some theories anyway. I'm also going to need the clicker I think. You were ready for that. Thank you. So to tell you about my theories, I'm going to tell you how I got to my theories, which involves telling you a story that is a lot of my life. And it starts here from a small place in the middle of the country. Well, the place isn't that small. It has lots of land. It's as big as any other place. There's just not a lot of people in that place. My school growing up was probably less than 60 people in the high school. They were all white. All the boys played football except for me. And that and in many other ways, I felt very different there growing up, and I yearned for the world outside. I didn't feel like I belonged there.\""
            ]
          },
          "metadata": {},
          "execution_count": 22
        }
      ]
    },
    {
      "cell_type": "code",
      "metadata": {
        "id": "0vCO8a2Ttm_C"
      },
      "source": [
        "# importing regex to clean the text\n",
        "import re\n",
        "\n",
        "# converiting the text into tokens\n",
        "def tokenization(text):\n",
        "    pattern = re.compile(r'[A-Za-z]+[\\w^\\']*|[\\w^\\']*[A-Za-z]+[\\w^\\']*')\n",
        "    return pattern.findall(text.lower())"
      ],
      "execution_count": 23,
      "outputs": []
    },
    {
      "cell_type": "code",
      "metadata": {
        "colab": {
          "base_uri": "https://localhost:8080/"
        },
        "id": "a9sX6aFatqtA",
        "outputId": "efca39d1-b955-442e-e368-eee7cf8bb97f"
      },
      "source": [
        "tokens = tokenization(text)\n",
        "tokens"
      ],
      "execution_count": 24,
      "outputs": [
        {
          "output_type": "execute_result",
          "data": {
            "text/plain": [
              "['hi',\n",
              " 'friends',\n",
              " 'i',\n",
              " 'want',\n",
              " 'to',\n",
              " 'talk',\n",
              " 'to',\n",
              " 'you',\n",
              " 'today',\n",
              " 'about',\n",
              " 'the',\n",
              " 'internet',\n",
              " 'just',\n",
              " 'generally',\n",
              " 'because',\n",
              " 'i',\n",
              " 'think',\n",
              " \"i've\",\n",
              " 'figured',\n",
              " 'it',\n",
              " 'out',\n",
              " 'i',\n",
              " 'have',\n",
              " 'some',\n",
              " 'theories',\n",
              " 'anyway',\n",
              " \"i'm\",\n",
              " 'also',\n",
              " 'going',\n",
              " 'to',\n",
              " 'need',\n",
              " 'the',\n",
              " 'clicker',\n",
              " 'i',\n",
              " 'think',\n",
              " 'you',\n",
              " 'were',\n",
              " 'ready',\n",
              " 'for',\n",
              " 'that',\n",
              " 'thank',\n",
              " 'you',\n",
              " 'so',\n",
              " 'to',\n",
              " 'tell',\n",
              " 'you',\n",
              " 'about',\n",
              " 'my',\n",
              " 'theories',\n",
              " \"i'm\",\n",
              " 'going',\n",
              " 'to',\n",
              " 'tell',\n",
              " 'you',\n",
              " 'how',\n",
              " 'i',\n",
              " 'got',\n",
              " 'to',\n",
              " 'my',\n",
              " 'theories',\n",
              " 'which',\n",
              " 'involves',\n",
              " 'telling',\n",
              " 'you',\n",
              " 'a',\n",
              " 'story',\n",
              " 'that',\n",
              " 'is',\n",
              " 'a',\n",
              " 'lot',\n",
              " 'of',\n",
              " 'my',\n",
              " 'life',\n",
              " 'and',\n",
              " 'it',\n",
              " 'starts',\n",
              " 'here',\n",
              " 'from',\n",
              " 'a',\n",
              " 'small',\n",
              " 'place',\n",
              " 'in',\n",
              " 'the',\n",
              " 'middle',\n",
              " 'of',\n",
              " 'the',\n",
              " 'country',\n",
              " 'well',\n",
              " 'the',\n",
              " 'place',\n",
              " \"isn't\",\n",
              " 'that',\n",
              " 'small',\n",
              " 'it',\n",
              " 'has',\n",
              " 'lots',\n",
              " 'of',\n",
              " 'land',\n",
              " \"it's\",\n",
              " 'as',\n",
              " 'big',\n",
              " 'as',\n",
              " 'any',\n",
              " 'other',\n",
              " 'place',\n",
              " \"there's\",\n",
              " 'just',\n",
              " 'not',\n",
              " 'a',\n",
              " 'lot',\n",
              " 'of',\n",
              " 'people',\n",
              " 'in',\n",
              " 'that',\n",
              " 'place',\n",
              " 'my',\n",
              " 'school',\n",
              " 'growing',\n",
              " 'up',\n",
              " 'was',\n",
              " 'probably',\n",
              " 'less',\n",
              " 'than',\n",
              " 'people',\n",
              " 'in',\n",
              " 'the',\n",
              " 'high',\n",
              " 'school',\n",
              " 'they',\n",
              " 'were',\n",
              " 'all',\n",
              " 'white',\n",
              " 'all',\n",
              " 'the',\n",
              " 'boys',\n",
              " 'played',\n",
              " 'football',\n",
              " 'except',\n",
              " 'for',\n",
              " 'me',\n",
              " 'and',\n",
              " 'that',\n",
              " 'and',\n",
              " 'in',\n",
              " 'many',\n",
              " 'other',\n",
              " 'ways',\n",
              " 'i',\n",
              " 'felt',\n",
              " 'very',\n",
              " 'different',\n",
              " 'there',\n",
              " 'growing',\n",
              " 'up',\n",
              " 'and',\n",
              " 'i',\n",
              " 'yearned',\n",
              " 'for',\n",
              " 'the',\n",
              " 'world',\n",
              " 'outside',\n",
              " 'i',\n",
              " \"didn't\",\n",
              " 'feel',\n",
              " 'like',\n",
              " 'i',\n",
              " 'belonged',\n",
              " 'there']"
            ]
          },
          "metadata": {},
          "execution_count": 24
        }
      ]
    },
    {
      "cell_type": "code",
      "metadata": {
        "id": "2bayzltPtuth"
      },
      "source": [
        "# assigning unique numbers to each word\n",
        "def map(tokens):\n",
        "    word_to_id = {}\n",
        "    id_to_word = {}\n",
        "    \n",
        "    for i, token in enumerate(set(tokens)):\n",
        "        word_to_id[token] = i\n",
        "        id_to_word[i] = token\n",
        "    \n",
        "    return word_to_id, id_to_word"
      ],
      "execution_count": 25,
      "outputs": []
    },
    {
      "cell_type": "code",
      "metadata": {
        "colab": {
          "base_uri": "https://localhost:8080/"
        },
        "id": "YW5v4yEPtycP",
        "outputId": "b0932109-0de8-433c-cc4e-e93bd3271257"
      },
      "source": [
        "# generating index for each word\n",
        "word_to_id, id_to_word = map(tokens)\n",
        "word_to_id"
      ],
      "execution_count": 26,
      "outputs": [
        {
          "output_type": "execute_result",
          "data": {
            "text/plain": [
              "{'a': 27,\n",
              " 'about': 78,\n",
              " 'all': 45,\n",
              " 'also': 3,\n",
              " 'and': 40,\n",
              " 'any': 67,\n",
              " 'anyway': 23,\n",
              " 'as': 11,\n",
              " 'because': 47,\n",
              " 'belonged': 20,\n",
              " 'big': 66,\n",
              " 'boys': 1,\n",
              " 'clicker': 41,\n",
              " 'country': 4,\n",
              " \"didn't\": 10,\n",
              " 'different': 28,\n",
              " 'except': 72,\n",
              " 'feel': 85,\n",
              " 'felt': 79,\n",
              " 'figured': 54,\n",
              " 'football': 17,\n",
              " 'for': 6,\n",
              " 'friends': 61,\n",
              " 'from': 52,\n",
              " 'generally': 30,\n",
              " 'going': 71,\n",
              " 'got': 26,\n",
              " 'growing': 51,\n",
              " 'has': 88,\n",
              " 'have': 82,\n",
              " 'here': 77,\n",
              " 'hi': 60,\n",
              " 'high': 32,\n",
              " 'how': 97,\n",
              " 'i': 92,\n",
              " \"i'm\": 84,\n",
              " \"i've\": 64,\n",
              " 'in': 38,\n",
              " 'internet': 39,\n",
              " 'involves': 87,\n",
              " 'is': 44,\n",
              " \"isn't\": 93,\n",
              " 'it': 53,\n",
              " \"it's\": 50,\n",
              " 'just': 57,\n",
              " 'land': 22,\n",
              " 'less': 29,\n",
              " 'life': 9,\n",
              " 'like': 89,\n",
              " 'lot': 95,\n",
              " 'lots': 96,\n",
              " 'many': 19,\n",
              " 'me': 65,\n",
              " 'middle': 86,\n",
              " 'my': 5,\n",
              " 'need': 91,\n",
              " 'not': 81,\n",
              " 'of': 7,\n",
              " 'other': 63,\n",
              " 'out': 80,\n",
              " 'outside': 70,\n",
              " 'people': 59,\n",
              " 'place': 33,\n",
              " 'played': 34,\n",
              " 'probably': 21,\n",
              " 'ready': 48,\n",
              " 'school': 0,\n",
              " 'small': 58,\n",
              " 'so': 76,\n",
              " 'some': 25,\n",
              " 'starts': 43,\n",
              " 'story': 73,\n",
              " 'talk': 75,\n",
              " 'tell': 42,\n",
              " 'telling': 46,\n",
              " 'than': 74,\n",
              " 'thank': 24,\n",
              " 'that': 18,\n",
              " 'the': 83,\n",
              " 'theories': 90,\n",
              " 'there': 14,\n",
              " \"there's\": 94,\n",
              " 'they': 37,\n",
              " 'think': 13,\n",
              " 'to': 55,\n",
              " 'today': 62,\n",
              " 'up': 12,\n",
              " 'very': 2,\n",
              " 'want': 16,\n",
              " 'was': 69,\n",
              " 'ways': 49,\n",
              " 'well': 36,\n",
              " 'were': 8,\n",
              " 'which': 56,\n",
              " 'white': 15,\n",
              " 'world': 31,\n",
              " 'yearned': 68,\n",
              " 'you': 35}"
            ]
          },
          "metadata": {},
          "execution_count": 26
        }
      ]
    },
    {
      "cell_type": "code",
      "metadata": {
        "id": "IzsQXgett1yj"
      },
      "source": [
        "# importing numpy\n",
        "import numpy as np\n",
        "\n",
        "# generating random seed to maintain repeatibility of the training data\n",
        "np.random.seed(24)\n",
        "\n",
        "# defining window size\n",
        "window = 2\n",
        "\n",
        "def training_data(tokens, word_to_id, window):\n",
        "    X = []\n",
        "    y = []\n",
        "    n_tokens = len(tokens)\n",
        "    \n",
        "    for i in range(n_tokens):\n",
        "        idx = concat(\n",
        "            range(max(0, i - window), i), \n",
        "            range(i, min(n_tokens, i + window + 1))\n",
        "        )\n",
        "        for j in idx:\n",
        "            if i == j:\n",
        "                continue\n",
        "            X.append(one_hot_encode(word_to_id[tokens[i]], len(word_to_id)))\n",
        "            y.append(one_hot_encode(word_to_id[tokens[j]], len(word_to_id)))\n",
        "    \n",
        "    return np.asarray(X), np.asarray(y)"
      ],
      "execution_count": 41,
      "outputs": []
    },
    {
      "cell_type": "code",
      "metadata": {
        "id": "loqfSKqwt8Kh"
      },
      "source": [
        "# concatanating words\n",
        "def concat(*iterables):\n",
        "    for iterable in iterables:\n",
        "        yield from iterable"
      ],
      "execution_count": 42,
      "outputs": []
    },
    {
      "cell_type": "code",
      "metadata": {
        "id": "skjaRnnjt-ka"
      },
      "source": [
        "# creating sparse matrix using one hot encoding\n",
        "def one_hot_encode(id, vocab_size):\n",
        "    res = [0] * vocab_size\n",
        "    res[id] = 1\n",
        "    return res"
      ],
      "execution_count": 43,
      "outputs": []
    },
    {
      "cell_type": "code",
      "metadata": {
        "id": "PHJOmugpuArH"
      },
      "source": [
        "X, y = training_data(tokens, word_to_id, window)"
      ],
      "execution_count": 44,
      "outputs": []
    },
    {
      "cell_type": "code",
      "metadata": {
        "colab": {
          "base_uri": "https://localhost:8080/"
        },
        "id": "dhlimlGFuCs1",
        "outputId": "f1fdcf9e-70a0-4cd3-93e0-ffe178203c09"
      },
      "source": [
        "X.shape, y.shape"
      ],
      "execution_count": 45,
      "outputs": [
        {
          "output_type": "execute_result",
          "data": {
            "text/plain": [
              "((666, 98), (666, 98))"
            ]
          },
          "metadata": {},
          "execution_count": 45
        }
      ]
    },
    {
      "cell_type": "code",
      "metadata": {
        "id": "tFZSnPxGuGTc"
      },
      "source": [
        "# embedding the model\n",
        "def init_network(vocab_size, n_embedding):\n",
        "    model = {\n",
        "        \"w1\": np.random.randn(vocab_size, n_embedding),\n",
        "        \"w2\": np.random.randn(n_embedding, vocab_size)\n",
        "    }\n",
        "    return model"
      ],
      "execution_count": 46,
      "outputs": []
    },
    {
      "cell_type": "code",
      "metadata": {
        "id": "KZ_y8We9uJ7Y"
      },
      "source": [
        "model = init_network(len(word_to_id), 10)"
      ],
      "execution_count": 47,
      "outputs": []
    },
    {
      "cell_type": "code",
      "metadata": {
        "id": "b3aeSKvNuMH_"
      },
      "source": [
        "# defining feed forward Neural Network\n",
        "def forward(model, X, return_cache=True):\n",
        "    cache = {}\n",
        "    \n",
        "    cache[\"a1\"] = X @ model[\"w1\"]\n",
        "    cache[\"a2\"] = cache[\"a1\"] @ model[\"w2\"]\n",
        "    cache[\"z\"] = softmax(cache[\"a2\"])\n",
        "    \n",
        "    if not return_cache:\n",
        "        return cache[\"z\"]\n",
        "    return cache"
      ],
      "execution_count": 48,
      "outputs": []
    },
    {
      "cell_type": "code",
      "metadata": {
        "id": "fT4eNHdBuN4E"
      },
      "source": [
        "# defining softmax layer for multi-class classification\n",
        "def softmax(X):\n",
        "    res = []\n",
        "    for x in X:\n",
        "        exp = np.exp(x)\n",
        "        res.append(exp / exp.sum())\n",
        "    return res"
      ],
      "execution_count": 49,
      "outputs": []
    },
    {
      "cell_type": "code",
      "metadata": {
        "colab": {
          "base_uri": "https://localhost:8080/"
        },
        "id": "7Du71k0YuQC1",
        "outputId": "961e27a8-a37e-4e66-c4f4-9108537170ed"
      },
      "source": [
        "(X @ model[\"w1\"]).shape"
      ],
      "execution_count": 50,
      "outputs": [
        {
          "output_type": "execute_result",
          "data": {
            "text/plain": [
              "(666, 10)"
            ]
          },
          "metadata": {},
          "execution_count": 50
        }
      ]
    },
    {
      "cell_type": "code",
      "metadata": {
        "colab": {
          "base_uri": "https://localhost:8080/"
        },
        "id": "OxVBerNDuSDP",
        "outputId": "54477fbb-b86d-4e6d-8965-73897bdcf413"
      },
      "source": [
        "(X @ model[\"w1\"] @ model[\"w2\"]).shape"
      ],
      "execution_count": 51,
      "outputs": [
        {
          "output_type": "execute_result",
          "data": {
            "text/plain": [
              "(666, 98)"
            ]
          },
          "metadata": {},
          "execution_count": 51
        }
      ]
    },
    {
      "cell_type": "code",
      "metadata": {
        "id": "TyVqwFeOuUeG"
      },
      "source": [
        "# backpropogation model\n",
        "def backward(model, X, y, alpha):\n",
        "    cache  = forward(model, X)\n",
        "    da2 = cache[\"z\"] - y\n",
        "    dw2 = cache[\"a1\"].T @ da2\n",
        "    da1 = da2 @ model[\"w2\"].T\n",
        "    dw1 = X.T @ da1\n",
        "    assert(dw2.shape == model[\"w2\"].shape)\n",
        "    assert(dw1.shape == model[\"w1\"].shape)\n",
        "    model[\"w1\"] -= alpha * dw1\n",
        "    model[\"w2\"] -= alpha * dw2\n",
        "    return cross_entropy(cache[\"z\"], y)"
      ],
      "execution_count": 52,
      "outputs": []
    },
    {
      "cell_type": "code",
      "metadata": {
        "id": "DLQ-RDQIuXaE"
      },
      "source": [
        "# defining loss\n",
        "def cross_entropy(z, y):\n",
        "    return - np.sum(np.log(z) * y)"
      ],
      "execution_count": 53,
      "outputs": []
    },
    {
      "cell_type": "code",
      "metadata": {
        "colab": {
          "base_uri": "https://localhost:8080/",
          "height": 461
        },
        "id": "MCxDSJKPuZhm",
        "outputId": "8c31f1e0-bb1b-40d1-eda3-cdd0431d409b"
      },
      "source": [
        "import matplotlib.pyplot as plt\n",
        "%matplotlib inline\n",
        "%config InlineBackend.figure_format = 'svg'\n",
        "plt.style.use(\"seaborn\")\n",
        "\n",
        "n_iter = 50\n",
        "learning_rate = 0.05\n",
        "\n",
        "history = [backward(model, X, y, learning_rate) for _ in range(n_iter)]\n",
        "\n",
        "plt.plot(range(len(history)), history)\n",
        "plt.show()"
      ],
      "execution_count": 54,
      "outputs": [
        {
          "output_type": "display_data",
          "data": {
            "text/plain": [
              "<Figure size 576x396 with 1 Axes>"
            ],
            "image/svg+xml": "<?xml version=\"1.0\" encoding=\"utf-8\" standalone=\"no\"?>\n<!DOCTYPE svg PUBLIC \"-//W3C//DTD SVG 1.1//EN\"\n  \"http://www.w3.org/Graphics/SVG/1.1/DTD/svg11.dtd\">\n<!-- Created with matplotlib (https://matplotlib.org/) -->\n<svg height=\"329.701875pt\" version=\"1.1\" viewBox=\"0 0 490.04375 329.701875\" width=\"490.04375pt\" xmlns=\"http://www.w3.org/2000/svg\" xmlns:xlink=\"http://www.w3.org/1999/xlink\">\n <defs>\n  <style type=\"text/css\">\n*{stroke-linecap:butt;stroke-linejoin:round;}\n  </style>\n </defs>\n <g id=\"figure_1\">\n  <g id=\"patch_1\">\n   <path d=\"M 0 329.701875 \nL 490.04375 329.701875 \nL 490.04375 0 \nL 0 0 \nz\n\" style=\"fill:#ffffff;\"/>\n  </g>\n  <g id=\"axes_1\">\n   <g id=\"patch_2\">\n    <path d=\"M 36.44375 306.18 \nL 482.84375 306.18 \nL 482.84375 7.2 \nL 36.44375 7.2 \nz\n\" style=\"fill:#eaeaf2;\"/>\n   </g>\n   <g id=\"matplotlib.axis_1\">\n    <g id=\"xtick_1\">\n     <g id=\"line2d_1\">\n      <path clip-path=\"url(#p05976f760c)\" d=\"M 56.734659 306.18 \nL 56.734659 7.2 \n\" style=\"fill:none;stroke:#ffffff;stroke-linecap:round;\"/>\n     </g>\n     <g id=\"line2d_2\"/>\n     <g id=\"text_1\">\n      <!-- 0 -->\n      <defs>\n       <path d=\"M 51.703125 34.421875 \nQ 51.703125 24.515625 49.828125 17.75 \nQ 47.953125 10.984375 44.703125 6.8125 \nQ 41.453125 2.640625 37.0625 0.828125 \nQ 32.671875 -0.984375 27.6875 -0.984375 \nQ 22.65625 -0.984375 18.3125 0.828125 \nQ 13.96875 2.640625 10.765625 6.78125 \nQ 7.5625 10.9375 5.734375 17.703125 \nQ 3.90625 24.46875 3.90625 34.421875 \nQ 3.90625 44.828125 5.734375 51.640625 \nQ 7.5625 58.453125 10.78125 62.5 \nQ 14.015625 66.546875 18.40625 68.1875 \nQ 22.796875 69.828125 27.984375 69.828125 \nQ 32.90625 69.828125 37.21875 68.1875 \nQ 41.546875 66.546875 44.765625 62.5 \nQ 48 58.453125 49.84375 51.640625 \nQ 51.703125 44.828125 51.703125 34.421875 \nz\nM 42.78125 34.421875 \nQ 42.78125 42.625 41.796875 48.0625 \nQ 40.828125 53.515625 38.921875 56.765625 \nQ 37.015625 60.015625 34.25 61.359375 \nQ 31.5 62.703125 27.984375 62.703125 \nQ 24.265625 62.703125 21.4375 61.328125 \nQ 18.609375 59.96875 16.671875 56.71875 \nQ 14.75 53.46875 13.765625 48.015625 \nQ 12.796875 42.578125 12.796875 34.421875 \nQ 12.796875 26.515625 13.796875 21.09375 \nQ 14.796875 15.671875 16.71875 12.375 \nQ 18.65625 9.078125 21.4375 7.640625 \nQ 24.21875 6.203125 27.78125 6.203125 \nQ 31.25 6.203125 34.03125 7.640625 \nQ 36.8125 9.078125 38.734375 12.375 \nQ 40.671875 15.671875 41.71875 21.09375 \nQ 42.78125 26.515625 42.78125 34.421875 \nz\n\" id=\"LiberationSans-48\"/>\n      </defs>\n      <g style=\"fill:#262626;\" transform=\"translate(53.95419 320.426875)scale(0.1 -0.1)\">\n       <use xlink:href=\"#LiberationSans-48\"/>\n      </g>\n     </g>\n    </g>\n    <g id=\"xtick_2\">\n     <g id=\"line2d_3\">\n      <path clip-path=\"url(#p05976f760c)\" d=\"M 139.554696 306.18 \nL 139.554696 7.2 \n\" style=\"fill:none;stroke:#ffffff;stroke-linecap:round;\"/>\n     </g>\n     <g id=\"line2d_4\"/>\n     <g id=\"text_2\">\n      <!-- 10 -->\n      <defs>\n       <path d=\"M 7.625 0 \nL 7.625 7.46875 \nL 25.140625 7.46875 \nL 25.140625 60.40625 \nL 9.625 49.3125 \nL 9.625 57.625 \nL 25.875 68.796875 \nL 33.984375 68.796875 \nL 33.984375 7.46875 \nL 50.734375 7.46875 \nL 50.734375 0 \nz\n\" id=\"LiberationSans-49\"/>\n      </defs>\n      <g style=\"fill:#262626;\" transform=\"translate(133.993759 320.426875)scale(0.1 -0.1)\">\n       <use xlink:href=\"#LiberationSans-49\"/>\n       <use x=\"55.615234\" xlink:href=\"#LiberationSans-48\"/>\n      </g>\n     </g>\n    </g>\n    <g id=\"xtick_3\">\n     <g id=\"line2d_5\">\n      <path clip-path=\"url(#p05976f760c)\" d=\"M 222.374733 306.18 \nL 222.374733 7.2 \n\" style=\"fill:none;stroke:#ffffff;stroke-linecap:round;\"/>\n     </g>\n     <g id=\"line2d_6\"/>\n     <g id=\"text_3\">\n      <!-- 20 -->\n      <defs>\n       <path d=\"M 5.03125 0 \nL 5.03125 6.203125 \nQ 7.515625 11.921875 11.109375 16.28125 \nQ 14.703125 20.65625 18.65625 24.1875 \nQ 22.609375 27.734375 26.484375 30.765625 \nQ 30.375 33.796875 33.5 36.8125 \nQ 36.625 39.84375 38.546875 43.15625 \nQ 40.484375 46.484375 40.484375 50.6875 \nQ 40.484375 53.609375 39.59375 55.828125 \nQ 38.71875 58.0625 37.0625 59.5625 \nQ 35.40625 61.078125 33.078125 61.828125 \nQ 30.765625 62.59375 27.9375 62.59375 \nQ 25.296875 62.59375 22.96875 61.859375 \nQ 20.65625 61.140625 18.84375 59.671875 \nQ 17.046875 58.203125 15.890625 56.03125 \nQ 14.75 53.859375 14.40625 50.984375 \nL 5.421875 51.8125 \nQ 5.859375 55.515625 7.46875 58.78125 \nQ 9.078125 62.0625 11.90625 64.53125 \nQ 14.75 67 18.71875 68.40625 \nQ 22.703125 69.828125 27.9375 69.828125 \nQ 33.0625 69.828125 37.0625 68.609375 \nQ 41.0625 67.390625 43.8125 64.984375 \nQ 46.578125 62.59375 48.046875 59.078125 \nQ 49.515625 55.5625 49.515625 50.984375 \nQ 49.515625 47.515625 48.265625 44.390625 \nQ 47.015625 41.265625 44.9375 38.421875 \nQ 42.875 35.59375 40.140625 32.953125 \nQ 37.40625 30.328125 34.421875 27.8125 \nQ 31.453125 25.296875 28.421875 22.828125 \nQ 25.390625 20.359375 22.71875 17.859375 \nQ 20.0625 15.375 17.96875 12.8125 \nQ 15.875 10.25 14.703125 7.46875 \nL 50.59375 7.46875 \nL 50.59375 0 \nz\n\" id=\"LiberationSans-50\"/>\n      </defs>\n      <g style=\"fill:#262626;\" transform=\"translate(216.813796 320.426875)scale(0.1 -0.1)\">\n       <use xlink:href=\"#LiberationSans-50\"/>\n       <use x=\"55.615234\" xlink:href=\"#LiberationSans-48\"/>\n      </g>\n     </g>\n    </g>\n    <g id=\"xtick_4\">\n     <g id=\"line2d_7\">\n      <path clip-path=\"url(#p05976f760c)\" d=\"M 305.19477 306.18 \nL 305.19477 7.2 \n\" style=\"fill:none;stroke:#ffffff;stroke-linecap:round;\"/>\n     </g>\n     <g id=\"line2d_8\"/>\n     <g id=\"text_4\">\n      <!-- 30 -->\n      <defs>\n       <path d=\"M 51.21875 19 \nQ 51.21875 14.265625 49.671875 10.546875 \nQ 48.140625 6.84375 45.1875 4.265625 \nQ 42.234375 1.703125 37.859375 0.359375 \nQ 33.5 -0.984375 27.875 -0.984375 \nQ 21.484375 -0.984375 17.109375 0.609375 \nQ 12.75 2.203125 9.90625 4.8125 \nQ 7.078125 7.421875 5.65625 10.765625 \nQ 4.25 14.109375 3.8125 17.671875 \nL 12.890625 18.5 \nQ 13.28125 15.765625 14.328125 13.515625 \nQ 15.375 11.28125 17.1875 9.671875 \nQ 19 8.0625 21.625 7.171875 \nQ 24.265625 6.296875 27.875 6.296875 \nQ 34.515625 6.296875 38.296875 9.5625 \nQ 42.09375 12.84375 42.09375 19.28125 \nQ 42.09375 23.09375 40.40625 25.40625 \nQ 38.71875 27.734375 36.203125 29.03125 \nQ 33.6875 30.328125 30.734375 30.765625 \nQ 27.78125 31.203125 25.296875 31.203125 \nL 20.3125 31.203125 \nL 20.3125 38.8125 \nL 25.09375 38.8125 \nQ 27.59375 38.8125 30.265625 39.328125 \nQ 32.953125 39.84375 35.171875 41.1875 \nQ 37.40625 42.53125 38.84375 44.828125 \nQ 40.28125 47.125 40.28125 50.6875 \nQ 40.28125 56.203125 37.03125 59.390625 \nQ 33.796875 62.59375 27.390625 62.59375 \nQ 21.578125 62.59375 17.984375 59.609375 \nQ 14.40625 56.640625 13.8125 51.21875 \nL 4.984375 51.90625 \nQ 5.515625 56.453125 7.46875 59.8125 \nQ 9.421875 63.1875 12.421875 65.40625 \nQ 15.4375 67.625 19.28125 68.71875 \nQ 23.140625 69.828125 27.484375 69.828125 \nQ 33.25 69.828125 37.390625 68.375 \nQ 41.546875 66.9375 44.1875 64.46875 \nQ 46.828125 62.015625 48.0625 58.6875 \nQ 49.3125 55.375 49.3125 51.609375 \nQ 49.3125 48.578125 48.484375 45.9375 \nQ 47.65625 43.3125 45.890625 41.203125 \nQ 44.140625 39.109375 41.421875 37.59375 \nQ 38.71875 36.078125 34.90625 35.296875 \nL 34.90625 35.109375 \nQ 39.0625 34.671875 42.140625 33.21875 \nQ 45.21875 31.78125 47.21875 29.625 \nQ 49.21875 27.484375 50.21875 24.75 \nQ 51.21875 22.015625 51.21875 19 \nz\n\" id=\"LiberationSans-51\"/>\n      </defs>\n      <g style=\"fill:#262626;\" transform=\"translate(299.633833 320.426875)scale(0.1 -0.1)\">\n       <use xlink:href=\"#LiberationSans-51\"/>\n       <use x=\"55.615234\" xlink:href=\"#LiberationSans-48\"/>\n      </g>\n     </g>\n    </g>\n    <g id=\"xtick_5\">\n     <g id=\"line2d_9\">\n      <path clip-path=\"url(#p05976f760c)\" d=\"M 388.014808 306.18 \nL 388.014808 7.2 \n\" style=\"fill:none;stroke:#ffffff;stroke-linecap:round;\"/>\n     </g>\n     <g id=\"line2d_10\"/>\n     <g id=\"text_5\">\n      <!-- 40 -->\n      <defs>\n       <path d=\"M 43.015625 15.578125 \nL 43.015625 0 \nL 34.71875 0 \nL 34.71875 15.578125 \nL 2.296875 15.578125 \nL 2.296875 22.40625 \nL 33.796875 68.796875 \nL 43.015625 68.796875 \nL 43.015625 22.515625 \nL 52.6875 22.515625 \nL 52.6875 15.578125 \nz\nM 34.71875 58.890625 \nQ 34.625 58.640625 34.234375 57.9375 \nQ 33.84375 57.234375 33.34375 56.34375 \nQ 32.859375 55.46875 32.34375 54.5625 \nQ 31.84375 53.65625 31.453125 53.078125 \nL 13.8125 27.09375 \nQ 13.578125 26.703125 13.109375 26.0625 \nQ 12.640625 25.4375 12.15625 24.78125 \nQ 11.671875 24.125 11.171875 23.484375 \nQ 10.6875 22.859375 10.40625 22.515625 \nL 34.71875 22.515625 \nz\n\" id=\"LiberationSans-52\"/>\n      </defs>\n      <g style=\"fill:#262626;\" transform=\"translate(382.45387 320.426875)scale(0.1 -0.1)\">\n       <use xlink:href=\"#LiberationSans-52\"/>\n       <use x=\"55.615234\" xlink:href=\"#LiberationSans-48\"/>\n      </g>\n     </g>\n    </g>\n    <g id=\"xtick_6\">\n     <g id=\"line2d_11\">\n      <path clip-path=\"url(#p05976f760c)\" d=\"M 470.834845 306.18 \nL 470.834845 7.2 \n\" style=\"fill:none;stroke:#ffffff;stroke-linecap:round;\"/>\n     </g>\n     <g id=\"line2d_12\"/>\n     <g id=\"text_6\">\n      <!-- 50 -->\n      <defs>\n       <path d=\"M 51.421875 22.40625 \nQ 51.421875 17.234375 49.859375 12.9375 \nQ 48.296875 8.640625 45.21875 5.53125 \nQ 42.140625 2.4375 37.578125 0.71875 \nQ 33.015625 -0.984375 27 -0.984375 \nQ 21.578125 -0.984375 17.546875 0.28125 \nQ 13.53125 1.5625 10.734375 3.78125 \nQ 7.953125 6 6.3125 8.984375 \nQ 4.6875 11.96875 4 15.375 \nL 12.890625 16.40625 \nQ 13.421875 14.453125 14.390625 12.625 \nQ 15.375 10.796875 17.0625 9.34375 \nQ 18.75 7.90625 21.21875 7.046875 \nQ 23.6875 6.203125 27.203125 6.203125 \nQ 30.609375 6.203125 33.390625 7.25 \nQ 36.1875 8.296875 38.15625 10.34375 \nQ 40.140625 12.40625 41.203125 15.375 \nQ 42.28125 18.359375 42.28125 22.21875 \nQ 42.28125 25.390625 41.25 28.046875 \nQ 40.234375 30.71875 38.328125 32.640625 \nQ 36.421875 34.578125 33.65625 35.640625 \nQ 30.90625 36.71875 27.390625 36.71875 \nQ 25.203125 36.71875 23.34375 36.328125 \nQ 21.484375 35.9375 19.890625 35.25 \nQ 18.3125 34.578125 17.015625 33.671875 \nQ 15.71875 32.765625 14.59375 31.78125 \nL 6 31.78125 \nL 8.296875 68.796875 \nL 47.40625 68.796875 \nL 47.40625 61.328125 \nL 16.3125 61.328125 \nL 14.984375 39.5 \nQ 17.328125 41.3125 20.84375 42.59375 \nQ 24.359375 43.890625 29.203125 43.890625 \nQ 34.328125 43.890625 38.421875 42.328125 \nQ 42.53125 40.765625 45.40625 37.90625 \nQ 48.296875 35.0625 49.859375 31.109375 \nQ 51.421875 27.15625 51.421875 22.40625 \nz\n\" id=\"LiberationSans-53\"/>\n      </defs>\n      <g style=\"fill:#262626;\" transform=\"translate(465.273907 320.426875)scale(0.1 -0.1)\">\n       <use xlink:href=\"#LiberationSans-53\"/>\n       <use x=\"55.615234\" xlink:href=\"#LiberationSans-48\"/>\n      </g>\n     </g>\n    </g>\n   </g>\n   <g id=\"matplotlib.axis_2\">\n    <g id=\"ytick_1\">\n     <g id=\"line2d_13\">\n      <path clip-path=\"url(#p05976f760c)\" d=\"M 36.44375 268.933603 \nL 482.84375 268.933603 \n\" style=\"fill:none;stroke:#ffffff;stroke-linecap:round;\"/>\n     </g>\n     <g id=\"line2d_14\"/>\n     <g id=\"text_7\">\n      <!-- 2000 -->\n      <g style=\"fill:#262626;\" transform=\"translate(7.2 272.557041)scale(0.1 -0.1)\">\n       <use xlink:href=\"#LiberationSans-50\"/>\n       <use x=\"55.615234\" xlink:href=\"#LiberationSans-48\"/>\n       <use x=\"111.230469\" xlink:href=\"#LiberationSans-48\"/>\n       <use x=\"166.845703\" xlink:href=\"#LiberationSans-48\"/>\n      </g>\n     </g>\n    </g>\n    <g id=\"ytick_2\">\n     <g id=\"line2d_15\">\n      <path clip-path=\"url(#p05976f760c)\" d=\"M 36.44375 202.718816 \nL 482.84375 202.718816 \n\" style=\"fill:none;stroke:#ffffff;stroke-linecap:round;\"/>\n     </g>\n     <g id=\"line2d_16\"/>\n     <g id=\"text_8\">\n      <!-- 3000 -->\n      <g style=\"fill:#262626;\" transform=\"translate(7.2 206.342254)scale(0.1 -0.1)\">\n       <use xlink:href=\"#LiberationSans-51\"/>\n       <use x=\"55.615234\" xlink:href=\"#LiberationSans-48\"/>\n       <use x=\"111.230469\" xlink:href=\"#LiberationSans-48\"/>\n       <use x=\"166.845703\" xlink:href=\"#LiberationSans-48\"/>\n      </g>\n     </g>\n    </g>\n    <g id=\"ytick_3\">\n     <g id=\"line2d_17\">\n      <path clip-path=\"url(#p05976f760c)\" d=\"M 36.44375 136.504029 \nL 482.84375 136.504029 \n\" style=\"fill:none;stroke:#ffffff;stroke-linecap:round;\"/>\n     </g>\n     <g id=\"line2d_18\"/>\n     <g id=\"text_9\">\n      <!-- 4000 -->\n      <g style=\"fill:#262626;\" transform=\"translate(7.2 140.127467)scale(0.1 -0.1)\">\n       <use xlink:href=\"#LiberationSans-52\"/>\n       <use x=\"55.615234\" xlink:href=\"#LiberationSans-48\"/>\n       <use x=\"111.230469\" xlink:href=\"#LiberationSans-48\"/>\n       <use x=\"166.845703\" xlink:href=\"#LiberationSans-48\"/>\n      </g>\n     </g>\n    </g>\n    <g id=\"ytick_4\">\n     <g id=\"line2d_19\">\n      <path clip-path=\"url(#p05976f760c)\" d=\"M 36.44375 70.289242 \nL 482.84375 70.289242 \n\" style=\"fill:none;stroke:#ffffff;stroke-linecap:round;\"/>\n     </g>\n     <g id=\"line2d_20\"/>\n     <g id=\"text_10\">\n      <!-- 5000 -->\n      <g style=\"fill:#262626;\" transform=\"translate(7.2 73.91268)scale(0.1 -0.1)\">\n       <use xlink:href=\"#LiberationSans-53\"/>\n       <use x=\"55.615234\" xlink:href=\"#LiberationSans-48\"/>\n       <use x=\"111.230469\" xlink:href=\"#LiberationSans-48\"/>\n       <use x=\"166.845703\" xlink:href=\"#LiberationSans-48\"/>\n      </g>\n     </g>\n    </g>\n   </g>\n   <g id=\"line2d_21\">\n    <path clip-path=\"url(#p05976f760c)\" d=\"M 56.734659 20.79 \nL 65.016663 139.782755 \nL 73.298667 183.394079 \nL 81.58067 215.499247 \nL 89.862674 229.626895 \nL 98.144678 239.405784 \nL 106.426681 247.01907 \nL 114.708685 253.289716 \nL 122.990689 257.983044 \nL 131.272692 262.365938 \nL 139.554696 265.190129 \nL 147.8367 268.05219 \nL 156.118704 271.232429 \nL 164.400707 273.764266 \nL 172.682711 269.746041 \nL 180.964715 274.767161 \nL 189.246718 280.642324 \nL 197.528722 281.272491 \nL 205.810726 281.246547 \nL 214.09273 274.558965 \nL 222.374733 282.480173 \nL 230.656737 284.22003 \nL 238.938741 283.835782 \nL 247.220744 267.046899 \nL 255.502748 275.669082 \nL 263.784752 265.03938 \nL 272.066756 257.915408 \nL 280.348759 258.250352 \nL 288.630763 271.887876 \nL 296.912767 265.73978 \nL 305.19477 273.854436 \nL 313.476774 260.364582 \nL 321.758778 263.301186 \nL 330.040782 279.353429 \nL 338.322785 285.643907 \nL 346.604789 284.466896 \nL 354.886793 286.793603 \nL 363.168796 282.932517 \nL 371.4508 287.305958 \nL 379.732804 286.044042 \nL 388.014808 287.656057 \nL 396.296811 285.27949 \nL 404.578815 292.59 \nL 412.860819 284.781019 \nL 421.142822 286.649664 \nL 429.424826 272.322551 \nL 437.70683 282.947477 \nL 445.988833 271.382076 \nL 454.270837 266.422992 \nL 462.552841 278.201549 \n\" style=\"fill:none;stroke:#4c72b0;stroke-linecap:round;stroke-width:1.75;\"/>\n   </g>\n   <g id=\"patch_3\">\n    <path d=\"M 36.44375 306.18 \nL 36.44375 7.2 \n\" style=\"fill:none;\"/>\n   </g>\n   <g id=\"patch_4\">\n    <path d=\"M 482.84375 306.18 \nL 482.84375 7.2 \n\" style=\"fill:none;\"/>\n   </g>\n   <g id=\"patch_5\">\n    <path d=\"M 36.44375 306.18 \nL 482.84375 306.18 \n\" style=\"fill:none;\"/>\n   </g>\n   <g id=\"patch_6\">\n    <path d=\"M 36.44375 7.2 \nL 482.84375 7.2 \n\" style=\"fill:none;\"/>\n   </g>\n  </g>\n </g>\n <defs>\n  <clipPath id=\"p05976f760c\">\n   <rect height=\"298.98\" width=\"446.4\" x=\"36.44375\" y=\"7.2\"/>\n  </clipPath>\n </defs>\n</svg>\n"
          },
          "metadata": {}
        }
      ]
    },
    {
      "cell_type": "code",
      "metadata": {
        "colab": {
          "base_uri": "https://localhost:8080/"
        },
        "id": "uLhvZF0FudBf",
        "outputId": "c35d9917-5e79-4cc1-af22-94ee2ab5ad53"
      },
      "source": [
        "learning = one_hot_encode(word_to_id[\"clicker\"], len(word_to_id))\n",
        "result = forward(model, [learning], return_cache=False)[0]\n",
        "\n",
        "for word in (id_to_word[id] for id in np.argsort(result)[::-1]):\n",
        "    print(word)"
      ],
      "execution_count": 56,
      "outputs": [
        {
          "output_type": "stream",
          "name": "stdout",
          "text": [
            "i\n",
            "the\n",
            "think\n",
            "need\n",
            "figured\n",
            "want\n",
            "today\n",
            "were\n",
            "i've\n",
            "white\n",
            "ready\n",
            "clicker\n",
            "hi\n",
            "well\n",
            "thank\n",
            "all\n",
            "talk\n",
            "you\n",
            "like\n",
            "belonged\n",
            "boys\n",
            "out\n",
            "it\n",
            "tell\n",
            "has\n",
            "that\n",
            "to\n",
            "so\n",
            "small\n",
            "how\n",
            "and\n",
            "didn't\n",
            "here\n",
            "land\n",
            "feel\n",
            "world\n",
            "friends\n",
            "my\n",
            "high\n",
            "outside\n",
            "got\n",
            "have\n",
            "they\n",
            "also\n",
            "except\n",
            "going\n",
            "middle\n",
            "yearned\n",
            "because\n",
            "people\n",
            "story\n",
            "school\n",
            "life\n",
            "is\n",
            "isn't\n",
            "lots\n",
            "about\n",
            "starts\n",
            "i'm\n",
            "some\n",
            "football\n",
            "ways\n",
            "internet\n",
            "other\n",
            "generally\n",
            "country\n",
            "for\n",
            "big\n",
            "very\n",
            "of\n",
            "probably\n",
            "me\n",
            "played\n",
            "in\n",
            "than\n",
            "was\n",
            "felt\n",
            "theories\n",
            "it's\n",
            "up\n",
            "different\n",
            "from\n",
            "many\n",
            "less\n",
            "telling\n",
            "a\n",
            "there\n",
            "any\n",
            "growing\n",
            "involves\n",
            "place\n",
            "anyway\n",
            "just\n",
            "there's\n",
            "as\n",
            "lot\n",
            "which\n",
            "not\n"
          ]
        }
      ]
    },
    {
      "cell_type": "code",
      "metadata": {
        "colab": {
          "base_uri": "https://localhost:8080/"
        },
        "id": "b_Sxobxtufb0",
        "outputId": "5e68e0bd-d9b1-4e04-df9d-f48b49b4a0a6"
      },
      "source": [
        "model[\"w1\"]"
      ],
      "execution_count": 57,
      "outputs": [
        {
          "output_type": "execute_result",
          "data": {
            "text/plain": [
              "array([[-7.88326841e-02, -9.77638673e-01,  7.53862311e-02,\n",
              "        -1.72734973e+00, -1.26294891e+00, -1.99116577e+00,\n",
              "         9.53913173e-01, -4.38144198e-01, -8.77401262e-01,\n",
              "         9.20390720e-02],\n",
              "       [-4.98985485e-01,  2.15062479e+00,  1.18526383e+00,\n",
              "         8.31794972e-01, -7.67884608e-01,  2.72829929e-01,\n",
              "         1.11080219e+00, -4.79242474e-01, -4.90659582e-02,\n",
              "         1.63435022e+00],\n",
              "       [-9.78519241e-01, -8.78842637e-02,  6.59690513e-02,\n",
              "        -6.66203826e-01,  1.14510852e+00,  1.75799498e-01,\n",
              "        -6.14589036e-01,  1.73817024e+00,  8.15207175e-01,\n",
              "        -1.13872413e+00],\n",
              "       [-8.09861899e-01,  2.50744642e-01,  1.03296464e+00,\n",
              "        -1.08864512e+00,  1.38219722e+00, -4.04914264e-01,\n",
              "         9.45242989e-01, -5.56597894e-01,  1.32073920e+00,\n",
              "         1.51168964e+00],\n",
              "       [ 4.79691443e-01,  7.86740811e-01,  5.58551514e-01,\n",
              "         6.58402091e-01,  4.69444355e-01,  1.62368304e-01,\n",
              "         4.44937416e-01,  2.97897525e-01, -1.60416568e+00,\n",
              "        -3.17865794e-01],\n",
              "       [-6.92702499e-01, -3.94716932e-02,  7.52526368e-02,\n",
              "        -1.55554521e+00,  5.13037930e-01, -9.30417196e-01,\n",
              "        -1.37095294e+00, -3.75444907e-01, -8.43356257e-02,\n",
              "         6.67886394e-02],\n",
              "       [-3.12013841e-01,  6.94693815e-01, -1.61284332e+00,\n",
              "         1.11418491e+00,  1.04576580e-01, -1.59727109e+00,\n",
              "        -4.89529225e-01, -8.84969504e-01, -9.44283589e-01,\n",
              "         1.99830540e-01],\n",
              "       [ 1.79985223e+00,  9.12267563e-01,  1.49266157e+00,\n",
              "        -1.11346023e+00, -8.35550716e-01,  6.95302069e-01,\n",
              "         4.10199243e-01, -3.39382668e-01, -1.01021656e+00,\n",
              "         6.19987538e-02],\n",
              "       [-2.86694354e+00,  2.24661430e-01,  6.53754201e-02,\n",
              "         7.76312965e-01, -6.92777764e-01,  1.08335763e+00,\n",
              "        -1.32124299e-02, -6.67305954e-01, -1.11686876e+00,\n",
              "         1.25629145e-01],\n",
              "       [-3.33144774e-01,  1.00849245e+00,  8.27607829e-01,\n",
              "         3.54541203e-01,  6.91863242e-01,  3.93168821e-01,\n",
              "        -6.23422979e-01,  1.98404469e+00, -2.63906729e+00,\n",
              "         7.84758157e-01],\n",
              "       [-1.88940204e+00, -4.48242567e-01,  7.08039810e-01,\n",
              "         1.36548060e+00,  5.65778183e-01, -6.94445596e-01,\n",
              "         6.75327544e-01,  5.46650199e-01,  4.98014112e-01,\n",
              "        -6.32353387e-01],\n",
              "       [ 1.46262521e+00,  3.80796623e-01,  6.49287365e-01,\n",
              "         5.18189070e-01, -4.31843952e-01,  8.98612397e-01,\n",
              "         5.47890136e-01,  1.68846065e-01,  5.16551774e-01,\n",
              "        -2.09746697e+00],\n",
              "       [-2.42506020e+00, -8.36101838e-01,  1.50499844e-01,\n",
              "        -9.99267072e-01, -9.94658219e-01, -2.01197018e-01,\n",
              "        -1.62540853e-01,  1.52563883e+00, -6.71520295e-02,\n",
              "        -1.17195628e+00],\n",
              "       [-5.11306603e-02, -1.53150080e-01, -8.32917579e-01,\n",
              "        -1.03138440e-01,  1.60379662e+00, -8.90257439e-01,\n",
              "         3.28131492e-01, -1.80797820e-01, -1.07206186e+00,\n",
              "         8.85021495e-01],\n",
              "       [ 4.67389211e-01, -5.54587395e-01, -1.79180875e+00,\n",
              "        -1.01533039e+00,  3.56509632e-01, -1.00835183e+00,\n",
              "         9.44816713e-01,  1.61941866e+00,  4.27117200e-01,\n",
              "        -8.37037457e-01],\n",
              "       [ 2.52158939e-01,  5.65219089e-01, -2.30577062e-01,\n",
              "         5.90635489e-01, -2.13815259e-01,  6.52486409e-02,\n",
              "         1.23508270e+00, -1.70626481e+00, -1.48576930e+00,\n",
              "         1.13036207e+00],\n",
              "       [-5.89440779e-01, -1.27638212e+00, -1.51051287e+00,\n",
              "         6.34755991e-01,  7.98102776e-01,  1.77264339e+00,\n",
              "        -4.59740286e-01,  2.61769445e-01,  7.51001740e-01,\n",
              "        -4.54815998e-01],\n",
              "       [-7.39072257e-01,  1.68882332e+00,  1.18384259e+00,\n",
              "         1.30132206e+00,  1.03302093e+00,  6.67120370e-01,\n",
              "        -1.10530809e+00, -1.18559016e+00, -3.29318144e-01,\n",
              "         1.76749741e+00],\n",
              "       [-3.26934221e-01, -6.50487027e-01, -9.94474325e-02,\n",
              "         6.45578134e-01, -1.15268804e+00,  3.83542976e-01,\n",
              "        -5.82027176e-01, -2.59964716e-01, -8.17402623e-01,\n",
              "        -6.12887086e-01],\n",
              "       [ 7.30533623e-01,  3.62772177e-01,  6.61743901e-01,\n",
              "         1.42645797e+00, -8.65487638e-02, -1.61246800e+00,\n",
              "         1.43281148e-01,  1.94983216e+00, -8.72168870e-01,\n",
              "        -1.50437586e+00],\n",
              "       [-2.21541542e+00, -1.94230824e-01, -3.66659380e-01,\n",
              "        -1.09683254e-01,  1.02404109e-01, -7.17808502e-02,\n",
              "        -1.78813350e-01,  3.50121140e-01,  6.32050121e-01,\n",
              "        -1.83893913e+00],\n",
              "       [ 4.15760974e-01,  4.79381833e-01, -2.78989502e-01,\n",
              "         2.03674281e-01, -2.08575742e+00, -1.55621069e+00,\n",
              "         5.34025453e-01,  1.75204363e+00,  8.54134214e-01,\n",
              "        -4.32154091e-01],\n",
              "       [ 1.18306852e+00,  7.38439013e-01,  1.63429313e+00,\n",
              "         3.93207192e-01,  7.12728163e-01,  1.86356170e+00,\n",
              "        -9.55052741e-01,  1.42215354e+00,  3.18609903e-01,\n",
              "         3.89269405e-02],\n",
              "       [ 8.70784174e-01,  4.08354287e-01, -4.12658769e-01,\n",
              "        -1.85038500e+00,  1.70042842e+00,  5.85234027e-01,\n",
              "        -9.74662127e-01, -7.59087232e-02,  1.48629263e-01,\n",
              "         2.23108454e+00],\n",
              "       [-3.76425570e-01, -6.21715832e-02, -4.09642540e-01,\n",
              "        -1.02171095e+00,  4.23012220e-02,  1.06439314e-01,\n",
              "        -1.59501647e+00, -7.88339183e-01, -1.15991252e+00,\n",
              "         1.39602916e+00],\n",
              "       [ 4.86999922e-01, -1.21107787e+00,  1.39479833e-01,\n",
              "        -9.91075274e-01,  2.18556171e+00, -1.18405756e+00,\n",
              "        -1.61506046e-01,  8.91099288e-01,  7.06668426e-01,\n",
              "         5.22019125e-01],\n",
              "       [-1.03343303e+00, -1.29998664e+00,  6.33731094e-01,\n",
              "         1.08939030e-01,  1.51359851e+00,  1.14384823e+00,\n",
              "         3.71419769e-01,  2.32834722e-01, -1.42579019e-01,\n",
              "        -4.09949037e-01],\n",
              "       [ 4.37562457e-01, -1.36438677e-01, -1.31013439e+00,\n",
              "         3.55644755e-01, -7.19260264e-01, -5.51996154e-02,\n",
              "        -2.81191393e+00, -8.03749934e-01,  6.31056664e-01,\n",
              "         2.15628108e-02],\n",
              "       [ 5.23212465e-02,  7.93938185e-01, -7.17639518e-01,\n",
              "        -2.38862757e+00, -2.47492994e-01,  1.06879439e+00,\n",
              "        -1.11227555e+00,  2.26222172e+00,  1.21537720e+00,\n",
              "        -1.23823545e+00],\n",
              "       [ 3.52401474e-01, -5.16310693e-01,  3.19387471e-01,\n",
              "         2.21793164e+00, -2.14720512e+00, -1.23384705e-01,\n",
              "         9.83270895e-01,  2.68046761e+00, -3.08954960e-01,\n",
              "         1.55448368e-01],\n",
              "       [ 2.42736346e-01, -1.98176887e+00,  8.28858043e-01,\n",
              "         3.38633180e-01,  1.02524659e+00, -2.05108765e+00,\n",
              "         3.74331487e-01, -4.61435960e-01,  2.00371374e-01,\n",
              "        -4.50464079e-03],\n",
              "       [-2.02173473e+00, -1.65147055e-01,  8.03801971e-01,\n",
              "         1.10615046e+00,  7.67980265e-01, -5.88532374e-01,\n",
              "         6.05016895e-01,  4.76110305e-01, -8.32514468e-01,\n",
              "         2.13094368e-01],\n",
              "       [-1.00077543e+00,  9.71030857e-01,  1.53966586e+00,\n",
              "        -2.19704841e+00, -9.67218237e-01, -3.72662303e-01,\n",
              "        -6.08777487e-01,  2.32885868e-01, -1.13965206e+00,\n",
              "        -1.08087456e+00],\n",
              "       [ 1.20147576e+00, -7.95159373e-01,  1.59482581e-01,\n",
              "        -8.66673655e-01, -4.51843878e-01, -2.24910293e-01,\n",
              "         8.89574212e-01, -2.30370072e-02, -8.83940949e-01,\n",
              "        -1.82688279e+00],\n",
              "       [-1.20988232e+00,  2.86600832e+00,  8.56543185e-01,\n",
              "        -4.14535459e-03,  3.28346270e-01,  3.03708236e-01,\n",
              "        -1.34561876e-01, -1.00824688e+00, -4.37328200e-02,\n",
              "        -2.36376601e-01],\n",
              "       [-3.86755712e-01, -1.23449757e+00, -1.03347697e+00,\n",
              "        -1.75804060e-01,  1.55652035e-01,  9.50898240e-01,\n",
              "         3.51551910e-01, -7.46886819e-01,  5.73629348e-02,\n",
              "        -2.67722042e-02],\n",
              "       [-7.50855514e-01,  6.14698593e-01,  1.47490101e+00,\n",
              "        -4.55590896e-01,  9.40884658e-02, -8.68125824e-01,\n",
              "         3.68816285e-01, -9.30007329e-01,  1.44404215e-01,\n",
              "        -1.66837227e+00],\n",
              "       [-6.20047835e-01, -5.96590523e-01,  1.34101022e+00,\n",
              "         6.94310022e-02, -1.85472023e-01, -5.72771164e-01,\n",
              "        -6.41758855e-01, -2.43894519e+00, -1.91787891e+00,\n",
              "         8.08703981e-01],\n",
              "       [ 9.60281084e-01,  5.27840680e-01,  3.56798026e-02,\n",
              "         8.21892823e-01, -1.02838160e+00, -1.39258900e+00,\n",
              "        -3.50512587e-01,  5.12574705e-02, -1.13193745e+00,\n",
              "        -1.78745008e-01],\n",
              "       [-3.85233576e-01,  4.66725361e-01,  1.02244148e+00,\n",
              "         4.25075160e-01,  6.84871721e-01, -1.42373011e+00,\n",
              "         6.26093083e-01, -2.41007577e+00,  7.47369524e-01,\n",
              "        -5.71679573e-01],\n",
              "       [ 5.13126471e-01, -5.43209223e-01,  3.75292949e-01,\n",
              "        -7.35464602e-01,  6.39462972e-01, -9.28904112e-01,\n",
              "        -1.19329791e+00,  1.04101342e+00, -8.70432039e-01,\n",
              "         4.42816996e-01],\n",
              "       [-2.70469148e-01,  1.67717745e-01, -1.54829181e+00,\n",
              "         8.32882789e-01,  1.02759183e+00,  4.45000295e-01,\n",
              "         1.58743125e+00,  2.25622470e-03, -1.98912513e+00,\n",
              "         2.76401768e-03],\n",
              "       [-1.98435913e+00, -9.14659813e-02, -1.41689494e-01,\n",
              "        -1.05867832e+00,  6.60958047e-01,  8.41588140e-01,\n",
              "        -8.82426386e-01, -9.39739889e-01,  4.33386472e-01,\n",
              "        -2.31674071e-01],\n",
              "       [-1.86398114e+00,  1.18126002e+00, -1.41781607e+00,\n",
              "        -4.17800300e-01, -9.45188422e-01,  3.25330519e-01,\n",
              "        -1.93831563e+00,  6.99556676e-01, -4.30726400e-01,\n",
              "        -3.03249930e-01],\n",
              "       [ 1.11355637e+00, -1.13476162e-01, -8.24789623e-01,\n",
              "        -3.54396251e-01, -1.84918497e+00,  2.14356639e-01,\n",
              "        -3.01723831e-01, -1.80788083e+00, -5.53627151e-01,\n",
              "        -1.24662589e+00],\n",
              "       [-1.33216895e-01,  1.07080554e+00, -8.88776399e-01,\n",
              "        -3.89241572e-01, -2.78388705e-01,  1.55780743e+00,\n",
              "         1.07607957e+00, -2.02747624e+00, -1.84594517e+00,\n",
              "        -2.97126858e-01],\n",
              "       [-2.42282002e-01, -1.66526957e+00,  4.81505262e-01,\n",
              "        -4.71864376e-01, -9.64285240e-01,  5.31597753e-01,\n",
              "        -1.02297518e+00, -1.49248525e+00,  3.49394578e-01,\n",
              "         1.24536761e+00],\n",
              "       [-2.29716242e-01, -2.53303362e-01, -8.08601761e-01,\n",
              "         1.48515801e+00,  8.77629462e-01, -6.34903571e-01,\n",
              "         2.50569416e-01, -1.28518512e+00,  4.67871407e-01,\n",
              "        -1.02850466e+00],\n",
              "       [ 4.51908725e-01, -7.10968970e-01, -9.54523920e-01,\n",
              "        -9.28174088e-02, -9.79538326e-02, -7.74829177e-01,\n",
              "        -7.09948002e-01, -7.98951106e-01, -1.51576676e+00,\n",
              "         2.09944291e+00],\n",
              "       [ 1.09749358e+00,  1.52657193e-01, -1.34192910e+00,\n",
              "        -2.66564821e-01,  1.46665902e+00, -1.30073006e+00,\n",
              "        -2.39397890e+00,  1.00197458e+00,  1.17834029e+00,\n",
              "        -1.68400118e+00],\n",
              "       [ 1.09654117e+00,  1.87598760e+00,  7.17177217e-01,\n",
              "         1.53277363e+00,  5.25030196e-01,  1.20134229e+00,\n",
              "        -8.18798652e-01,  7.26907036e-01,  8.10515426e-01,\n",
              "        -1.66706699e+00],\n",
              "       [-1.91282851e+00, -2.37890856e-01,  1.77863496e+00,\n",
              "        -9.32266477e-01, -3.68408454e-02, -1.35154274e+00,\n",
              "         3.91093282e-01,  1.95239620e+00,  2.66805974e-01,\n",
              "        -5.00672231e-01],\n",
              "       [-4.76378128e-01, -6.63738054e-01, -8.40471665e-01,\n",
              "         1.09832664e-01, -2.46894555e+00,  6.54533549e-01,\n",
              "        -8.93984186e-01,  9.73944498e-01, -1.21592859e+00,\n",
              "        -8.24641893e-02],\n",
              "       [ 6.99840402e-01,  4.60497368e-01, -1.40154207e+00,\n",
              "        -9.54709525e-01,  6.83975535e-01, -1.25784930e-01,\n",
              "        -1.10458097e-01,  1.64944554e+00, -1.85502523e+00,\n",
              "         2.85054560e-01],\n",
              "       [-1.28240634e+00,  2.15150676e+00, -7.84056617e-01,\n",
              "         1.74261995e-01,  2.07106685e+00,  1.17919236e+00,\n",
              "        -1.32101523e-01,  5.81092992e-01, -7.51586912e-01,\n",
              "        -8.50164251e-01],\n",
              "       [-5.65412267e-01, -6.69469170e-01, -1.31339384e+00,\n",
              "        -4.33981779e-01,  2.64852031e-01,  3.85170003e-02,\n",
              "         1.08501188e+00,  3.38385609e-02, -7.50761568e-01,\n",
              "         6.48411181e-01],\n",
              "       [ 3.79935261e-01, -2.46528611e+00,  1.86718124e-01,\n",
              "        -1.18079501e+00,  2.71749967e-01,  6.08326402e-01,\n",
              "        -5.20520625e-01,  6.16739937e-01,  6.71227379e-01,\n",
              "         3.72322080e-01],\n",
              "       [-1.41723805e-01, -2.40543020e-02,  1.49008953e+00,\n",
              "         8.71891075e-02, -1.54983848e+00, -1.41688036e+00,\n",
              "         1.25062369e+00, -1.19050355e+00,  1.02106023e+00,\n",
              "         4.65194547e-01],\n",
              "       [-3.76942723e-01, -2.82136269e-01,  2.26685097e-01,\n",
              "        -8.02322075e-01, -6.68586382e-01,  8.19600275e-01,\n",
              "        -1.80758562e+00, -1.65825353e-01, -8.28569871e-01,\n",
              "        -1.16988411e+00],\n",
              "       [ 1.21616718e+00,  1.49554230e+00,  6.47655918e-01,\n",
              "        -1.22121611e+00, -1.28879231e+00, -6.80158462e-01,\n",
              "        -3.98558484e-01,  5.16889249e-01, -9.30692429e-01,\n",
              "        -7.29389586e-01],\n",
              "       [-8.08331868e-01, -1.64988882e+00,  3.27390123e-01,\n",
              "         2.38091899e+00,  1.08703112e+00,  1.34372893e+00,\n",
              "        -1.55061673e+00,  1.34664397e-01,  5.47059498e-01,\n",
              "        -8.74002550e-01],\n",
              "       [-5.12699557e-01, -3.27681501e-01, -1.94508036e+00,\n",
              "         1.46863161e+00, -4.61115259e-02,  1.82420377e-01,\n",
              "         1.15586791e+00,  1.57615128e+00, -5.20853308e-01,\n",
              "         3.67481863e-02],\n",
              "       [-2.04540228e+00,  5.31975637e-02,  3.38742387e-02,\n",
              "        -1.32838439e-01,  8.32209926e-01, -4.03814293e-01,\n",
              "         5.19610385e-01, -1.55529643e+00, -4.02629381e-01,\n",
              "         3.24252587e-01],\n",
              "       [ 4.27633018e-01, -1.77062287e+00,  1.42157352e+00,\n",
              "         5.94749503e-01,  2.91303201e-01, -6.09080907e-01,\n",
              "        -8.71217624e-01,  1.54852298e+00,  5.38330984e-01,\n",
              "        -1.30946784e+00],\n",
              "       [-1.55131356e-01,  3.48267480e-01, -1.71057987e-01,\n",
              "         1.19505945e+00,  1.44592253e+00,  1.20011807e+00,\n",
              "         4.31604918e-01,  8.61034203e-01, -1.40740632e+00,\n",
              "        -1.11934254e+00],\n",
              "       [-7.18603716e-01,  1.18257384e+00, -4.50503801e-01,\n",
              "        -7.08759271e-01,  1.36507125e-01, -1.38437967e+00,\n",
              "        -1.67075838e+00, -5.34566794e-01, -1.43630522e+00,\n",
              "         1.09132126e+00],\n",
              "       [ 1.14367286e+00, -5.13020943e-01,  1.64324659e+00,\n",
              "        -7.40008176e-02,  5.92943481e-01,  1.07586058e+00,\n",
              "         6.55782134e-01,  5.88653594e-01,  1.40324254e+00,\n",
              "        -9.37615305e-01],\n",
              "       [ 3.80949820e-01, -6.20195529e-01,  8.61144747e-03,\n",
              "         6.66471785e-01, -4.18276165e-01, -7.07660243e-02,\n",
              "        -5.42313094e-01, -2.84824458e-02,  1.15150052e+00,\n",
              "        -2.63331572e+00],\n",
              "       [-2.01527613e+00,  1.45757227e-01,  2.15232827e-02,\n",
              "         3.44109060e-01,  5.19064960e-01, -6.97620356e-01,\n",
              "         2.06811181e-01,  3.90434973e-01, -1.23868824e+00,\n",
              "         2.25648592e-01],\n",
              "       [ 9.04749385e-02, -5.45284984e-01,  7.82623726e-02,\n",
              "        -1.49668762e+00, -1.93869708e+00, -4.74908084e-01,\n",
              "         1.20627534e+00,  2.06335353e+00,  6.37021846e-01,\n",
              "         9.49676440e-01],\n",
              "       [-7.48812000e-01,  5.96099321e-01,  2.69307363e-01,\n",
              "         1.35780091e+00,  1.69504738e+00, -1.51994435e+00,\n",
              "         7.81152481e-02, -6.19363541e-01, -2.42671911e-01,\n",
              "        -8.41538644e-01],\n",
              "       [ 1.03599421e+00, -7.81458514e-01, -1.24857678e+00,\n",
              "        -3.31553417e-01,  8.08679932e-01,  2.75216475e-01,\n",
              "         1.12213586e+00, -2.91536096e-01,  4.84378623e-01,\n",
              "         1.96371724e+00],\n",
              "       [-1.05690503e+00,  1.42575054e+00,  1.82138610e+00,\n",
              "         1.47268141e+00, -9.11049429e-01, -1.22977977e+00,\n",
              "        -1.06530663e+00,  7.01530603e-01,  7.35725165e-01,\n",
              "         1.09004855e+00],\n",
              "       [-2.91419134e-01, -8.73676207e-01, -7.94307700e-01,\n",
              "        -1.34309069e-01, -1.24204871e+00,  1.00902065e+00,\n",
              "        -1.70377326e+00, -1.35946038e+00, -1.37928821e+00,\n",
              "         8.25519734e-01],\n",
              "       [-2.66939886e-01,  5.03896060e-01,  1.48401788e+00,\n",
              "         9.43058052e-01, -2.07356368e+00,  1.40426501e+00,\n",
              "         3.67990416e-01,  2.09177807e+00, -7.48046787e-01,\n",
              "        -1.02648898e+00],\n",
              "       [-1.08743156e+00, -2.09850153e-01, -1.08207167e+00,\n",
              "         1.00382015e+00,  3.05488534e-01,  7.99620883e-01,\n",
              "         3.86803654e-01, -1.61405432e-01,  5.43280514e-01,\n",
              "         1.40827801e+00],\n",
              "       [-1.61456352e+00, -1.30015391e+00, -7.37508984e-01,\n",
              "         1.47222819e+00, -1.05335631e+00,  1.01581489e+00,\n",
              "        -7.31678453e-03, -5.75889029e-01,  1.25322241e+00,\n",
              "         8.15217260e-01],\n",
              "       [-1.27099670e+00, -6.64304600e-02,  2.99550347e-01,\n",
              "        -1.06014381e-01, -1.64722423e+00,  1.35013807e+00,\n",
              "        -1.73862493e+00,  9.44713670e-01, -5.73616517e-01,\n",
              "        -3.90918841e-01],\n",
              "       [-1.13462187e+00, -1.01599386e+00, -4.38385763e-01,\n",
              "        -5.43427589e-01, -2.36039221e-01, -1.33985834e+00,\n",
              "         1.51910965e+00, -4.39692996e-01, -4.53692800e-01,\n",
              "         1.08920139e+00],\n",
              "       [ 4.96056814e-01, -1.00885783e+00, -1.21794683e+00,\n",
              "         3.78728401e-02,  7.11887264e-01, -3.82571556e-01,\n",
              "        -1.90539154e-01,  2.04176152e+00,  1.53676969e+00,\n",
              "        -1.02998589e+00],\n",
              "       [ 9.97181706e-01,  1.58271256e-01,  2.58471601e-01,\n",
              "         1.10963300e+00,  2.05163118e+00,  4.56047202e-01,\n",
              "        -4.13807524e-01,  8.42351963e-01, -1.12914527e+00,\n",
              "        -1.05245411e+00],\n",
              "       [ 1.98523506e+00, -4.83858689e-01,  1.28325212e+00,\n",
              "        -3.67619866e-01, -1.84611481e+00, -1.25259588e+00,\n",
              "         8.10901931e-02, -1.61717018e+00,  6.04091633e-01,\n",
              "         3.75747706e-01],\n",
              "       [-2.35685879e-01, -5.54389214e-01, -2.18883435e-01,\n",
              "        -1.81975118e+00,  2.45314825e+00,  6.07467712e-01,\n",
              "        -1.73203786e+00,  9.06297253e-01, -1.78025967e-02,\n",
              "         3.68569160e-03],\n",
              "       [ 3.16866310e-01, -9.97135305e-01,  8.76068914e-01,\n",
              "         1.38049200e+00,  6.93059080e-01,  7.59485406e-01,\n",
              "        -2.01772570e-01, -1.07303906e+00, -4.54371260e-01,\n",
              "        -1.17943489e+00],\n",
              "       [-4.46904907e-01, -1.87574792e-01,  6.87749860e-01,\n",
              "        -1.12706464e+00,  6.68941848e-01,  6.94603728e-01,\n",
              "         5.75258354e-01,  1.23658658e+00,  7.28074575e-01,\n",
              "         1.85706055e+00],\n",
              "       [-1.15062822e+00,  1.18965763e-01, -3.44034314e-01,\n",
              "         4.55920462e-01,  9.49761508e-01, -8.05750545e-01,\n",
              "        -1.84785819e-01, -2.05135631e-01,  4.03678866e-01,\n",
              "        -1.65098181e+00],\n",
              "       [ 5.67926936e-01,  1.04148320e+00,  7.36295184e-01,\n",
              "        -4.38746624e-02,  2.82919018e-01, -4.39303433e-02,\n",
              "         2.02891501e-01,  9.78008976e-01, -1.55799647e+00,\n",
              "        -4.91558868e-01],\n",
              "       [-3.88487412e-02, -1.60674042e+00, -5.16747068e-01,\n",
              "        -8.48790268e-01, -1.02350237e-01, -3.66739938e-01,\n",
              "        -1.66430882e+00, -3.14793780e-01,  8.52404582e-01,\n",
              "         1.27021488e+00],\n",
              "       [ 9.45696320e-01,  6.80508459e-01, -8.94842336e-02,\n",
              "         6.21603061e-01, -8.50930333e-01,  1.29486848e+00,\n",
              "        -1.83491508e+00,  3.34634683e+00, -7.30780406e-01,\n",
              "        -5.90365030e-01],\n",
              "       [-4.42106556e-01,  2.27720613e-01, -4.48789299e-01,\n",
              "         1.25373080e+00,  1.20757707e+00, -1.12548159e+00,\n",
              "         9.90166672e-01,  9.46832379e-01,  6.68913482e-01,\n",
              "        -6.09956356e-01],\n",
              "       [ 3.67363425e-01, -7.09968858e-01,  1.69109587e+00,\n",
              "        -1.16511143e+00,  1.74977008e+00,  2.73592302e-01,\n",
              "         7.30350017e-02, -7.38603844e-01,  3.34468049e-01,\n",
              "         1.00983900e+00],\n",
              "       [-1.43715776e+00,  9.68794406e-01,  7.22620596e-01,\n",
              "        -9.18061908e-02,  1.41954428e+00,  5.08093204e-01,\n",
              "         1.33559264e+00,  7.87902782e-02, -4.84086254e-01,\n",
              "         1.37003129e+00],\n",
              "       [-9.32477422e-01,  3.15261595e-01, -5.22034348e-01,\n",
              "         1.79340553e-01,  4.70988096e-01, -2.46621305e-01,\n",
              "         2.57815017e-01,  4.34604238e-01,  6.70986607e-01,\n",
              "         4.70559947e-01],\n",
              "       [ 1.85538882e-01,  8.53389990e-02, -8.84557089e-01,\n",
              "        -5.42682999e-01, -9.03539300e-01, -1.24827576e+00,\n",
              "         2.69798571e-01, -7.85301860e-03, -1.40133966e+00,\n",
              "        -2.04369267e+00],\n",
              "       [ 1.15227655e+00,  7.58373859e-01, -7.34981175e-02,\n",
              "         1.56442266e+00, -1.55965794e+00, -1.41372625e+00,\n",
              "        -1.28874958e+00, -1.09391737e+00,  1.57365768e+00,\n",
              "        -6.58060880e-01],\n",
              "       [-2.09363561e-01,  4.18811281e-01,  1.42009953e+00,\n",
              "         7.46892453e-02, -1.16328427e+00,  1.49115281e+00,\n",
              "        -1.06283138e+00, -5.63443941e-02, -4.41381444e-01,\n",
              "         6.81435999e-01],\n",
              "       [ 9.57816987e-01,  2.44792427e+00, -2.20506398e+00,\n",
              "         1.67234413e+00, -3.74190306e-01,  5.96459145e-01,\n",
              "        -6.85217958e-01,  2.44201265e-01, -1.33018409e+00,\n",
              "        -9.22799144e-02],\n",
              "       [-9.70710652e-01, -1.37080424e+00, -1.46116528e+00,\n",
              "         1.25781778e-01, -1.63860190e-02, -7.87463340e-01,\n",
              "         2.25737437e-01,  3.37788805e-01,  4.56547877e-01,\n",
              "         4.39817324e-01]])"
            ]
          },
          "metadata": {},
          "execution_count": 57
        }
      ]
    },
    {
      "cell_type": "code",
      "metadata": {
        "id": "9bEjaeR5ujc9"
      },
      "source": [
        "def get_embedding(model, word):\n",
        "    try:\n",
        "        idx = word_to_id[word]\n",
        "    except KeyError:\n",
        "        print(\"`word` not in corpus\")\n",
        "    one_hot = one_hot_encode(idx, len(word_to_id))\n",
        "    return forward(model, one_hot)[\"a1\"]"
      ],
      "execution_count": 58,
      "outputs": []
    },
    {
      "cell_type": "code",
      "metadata": {
        "colab": {
          "base_uri": "https://localhost:8080/"
        },
        "id": "CC419crnumi-",
        "outputId": "b05df29b-f3be-4eb4-de37-10a67223d6cc"
      },
      "source": [
        "get_embedding(model, \"clicker\")"
      ],
      "execution_count": 59,
      "outputs": [
        {
          "output_type": "execute_result",
          "data": {
            "text/plain": [
              "array([-0.27046915,  0.16771774, -1.54829181,  0.83288279,  1.02759183,\n",
              "        0.4450003 ,  1.58743125,  0.00225622, -1.98912513,  0.00276402])"
            ]
          },
          "metadata": {},
          "execution_count": 59
        }
      ]
    }
  ]
}